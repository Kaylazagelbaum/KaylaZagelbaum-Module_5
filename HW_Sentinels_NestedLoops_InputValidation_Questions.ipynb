{
  "cells": [
    {
      "cell_type": "markdown",
      "id": "90ac47ab",
      "metadata": {
        "id": "90ac47ab"
      },
      "source": [
        "# HW: Sentinels, Nested Loops, and Input Validation (≈70 minutes)\n",
        "\n",
        "**Instructions**\n",
        "- Work in order. Each task has a time estimate to help you pace yourself.\n",
        "- Do **not** use external libraries. Keep to standard Python.\n",
        "- Wherever you see `# TODO`, fill in the code.\n",
        "- Run the test cells (where provided) to sanity-check your work.\n",
        "- If something is unclear, add a short comment explaining your reasoning.\n",
        "\n",
        "**Learning goals**\n",
        "- Use **sentinel-controlled while loops** to gather input until the user indicates “stop.”\n",
        "- Use **try/except** and loops to **validate inputs** and **reprompt**.\n",
        "- Use **nested loops** to build tables or to loop over characters in strings."
      ]
    },
    {
      "cell_type": "markdown",
      "id": "e1f28e9a",
      "metadata": {
        "id": "e1f28e9a"
      },
      "source": [
        "---\n",
        "## ⏱️ Estimated total time: ~70 minutes\n",
        "\n",
        "- **Task 1** – Sentinel stats (15 min)  \n",
        "- **Task 2** – Choice validator (8 min)  \n",
        "- **Task 3** – Multiplication grid (12 min)  \n",
        "- **Task 4** – Vowel counter across words (15 min)  \n",
        "- **Task 5** – Mini-gradebook (20 min)"
      ]
    },
    {
      "cell_type": "markdown",
      "id": "983a92fb",
      "metadata": {
        "id": "983a92fb"
      },
      "source": [
        "---\n",
        "## Task 1 — Sentinel stats (≈15 min)\n",
        "\n",
        "Write a program that repeatedly asks the user for **integers between 0 and 100**.  \n",
        "Use a **sentinel**: the user types `done` (any case) to finish.\n",
        "\n",
        "**Requirements**\n",
        "- Ignore blank inputs (reprompt).\n",
        "- If the user types something that's not an integer in range, print a friendly message and reprompt.\n",
        "- When the user finishes, print: **count**, **sum**, **min**, **max**, and **mean** (to 2 decimals) using f-string: `{num:.2f}`.\n",
        "- If no valid numbers were entered, print `\"No data.\"`"
      ]
    },
    {
      "cell_type": "code",
      "execution_count": 2,
      "id": "bd66cac2",
      "metadata": {
        "colab": {
          "base_uri": "https://localhost:8080/"
        },
        "id": "bd66cac2",
        "outputId": "d2366fe0-a1db-466b-fdeb-575cb6d37b32"
      },
      "outputs": [
        {
          "output_type": "stream",
          "name": "stdout",
          "text": [
            "Enter an integer between 0 and 100 (or 'done' to finish): 3\n",
            "Enter an integer between 0 and 100 (or 'done' to finish): 6\n",
            "Enter an integer between 0 and 100 (or 'done' to finish): 4\n",
            "Enter an integer between 0 and 100 (or 'done' to finish): 1\n",
            "Enter an integer between 0 and 100 (or 'done' to finish): done\n",
            "Count: 4, sum:14, min:1, max:6, mean:3.5\n"
          ]
        }
      ],
      "source": [
        "# set initial amounts\n",
        "count = 0\n",
        "sum = 0\n",
        "min = None\n",
        "max = None\n",
        "mean = 0.0\n",
        "\n",
        "# repeatedly as for numbers\n",
        "while True:\n",
        "    user_input = input(\"Enter an integer between 0 and 100 (or 'done' to finish): \")\n",
        "    if user_input.lower() == \"done\":\n",
        "      break\n",
        "    try:\n",
        "      num = int(user_input)\n",
        "      if num < 0 or num > 100:\n",
        "        raise ValueError\n",
        "    except ValueError:\n",
        "      print(\"Invalid input. Please enter an integer between 0 and 100.\")\n",
        "      continue\n",
        "\n",
        "    # keep a running total\n",
        "    count += 1\n",
        "    sum += num\n",
        "    if count == 1:\n",
        "      min = num\n",
        "      max = num\n",
        "    else:\n",
        "      if num < min:\n",
        "        min = num\n",
        "      if num > max:\n",
        "        max = num\n",
        "    mean = sum/count\n",
        "\n",
        "# print results\n",
        "if count < 1:\n",
        "  print(\"No data.\")\n",
        "else:\n",
        "  print(f\"Count: {count}, sum:{sum}, min:{min}, max:{max}, mean:{mean}\")\n",
        "\n",
        ""
      ]
    },
    {
      "cell_type": "markdown",
      "id": "03a0f72b",
      "metadata": {
        "id": "03a0f72b"
      },
      "source": [
        "---\n",
        "## Task 2 — Choice validator (≈8 min)\n",
        "\n",
        "Write a function `get_choice(prompt, options)` that:\n",
        "- Prints the prompt and the list of options.\n",
        "- Repeatedly asks for input until the user types **exactly** one of the options (case-insensitive).\n",
        "- Returns the **originally cased** option from the `options` list.\n",
        "\n",
        "**Example**\n",
        "```text\n",
        "Your choice (red/blue/green): Blue\n",
        "# returns \"blue\" if options = [\"red\", \"blue\", \"green\"]\n",
        "```\n",
        "\n",
        "> Hint: Build `options_lower` once, then search it each time to find the index."
      ]
    },
    {
      "cell_type": "code",
      "execution_count": 5,
      "id": "ac138b14",
      "metadata": {
        "colab": {
          "base_uri": "https://localhost:8080/",
          "height": 52
        },
        "id": "ac138b14",
        "outputId": "bf4c007e-d9af-43e4-ce46-6aaea959e789"
      },
      "outputs": [
        {
          "name": "stdout",
          "output_type": "stream",
          "text": [
            "Pick a shape: (Square, Circle, Triangle)square\n"
          ]
        },
        {
          "output_type": "execute_result",
          "data": {
            "text/plain": [
              "'Square'"
            ],
            "application/vnd.google.colaboratory.intrinsic+json": {
              "type": "string"
            }
          },
          "metadata": {},
          "execution_count": 5
        }
      ],
      "source": [
        "def get_choice(prompt, options):\n",
        "\n",
        "\n",
        "  # asks for choice in options\n",
        "  options_lower = [option.lower() for option in options]  # normalizes input\n",
        "  choice = input(f\"{prompt}\")\n",
        "\n",
        "  # if the choice is one of the options, return the choice\n",
        "  if choice in options_lower:\n",
        "    return options[options_lower.index(choice)]\n",
        "  else:\n",
        "    print(\"Invalid choice. Please try again.\")\n",
        "    return get_choice(prompt, options)\n",
        "\n",
        "# call function with prompt and options\n",
        "get_choice(\"Pick a shape: (Square, Circle, Triangle)\", [\"Square\", \"Circle\", \"Triangle\"])\n",
        ""
      ]
    },
    {
      "cell_type": "code",
      "execution_count": null,
      "id": "c11c898d",
      "metadata": {
        "id": "c11c898d"
      },
      "outputs": [],
      "source": [
        "# (Quick check) Manually try:\n",
        "# color = get_choice(\"Pick a color\", [\"red\",\"blue\",\"green\"])\n",
        "# print(\"You picked:\", color)"
      ]
    },
    {
      "cell_type": "markdown",
      "id": "003c976f",
      "metadata": {
        "id": "003c976f"
      },
      "source": [
        "---\n",
        "## Task 3 — Multiplication grid (≈12 min)\n",
        "\n",
        "Prompt the user for two **integers** `rows` and `cols` in the range **1..10**.  \n",
        "Validate both with try/except and reprompt until valid.\n",
        "\n",
        "Then print a **rows × cols** multiplication table, where each cell shows `r*c` (1-indexed).  \n",
        "Format with spaces so columns line up **at least** for small sizes.\n",
        "\n",
        "**Example (rows=3, cols=4)**\n",
        "```\n",
        "    1  2  3  4\n",
        " 1: 1  2  3  4\n",
        " 2: 2  4  6  8\n",
        " 3: 3  6  9 12\n",
        "```"
      ]
    },
    {
      "cell_type": "code",
      "execution_count": 56,
      "id": "db519675",
      "metadata": {
        "colab": {
          "base_uri": "https://localhost:8080/"
        },
        "id": "db519675",
        "outputId": "ed3bb7fd-0ca8-4b8c-d69b-24d64ad9666b"
      },
      "outputs": [
        {
          "output_type": "stream",
          "name": "stdout",
          "text": [
            "Enter the number of rows (1-10): 6\n",
            "Enter the number of columns (1-10):7\n",
            "1:  1  2  3  4  5  6  7\n",
            "2:  2  4  6  8 10 12 14\n",
            "3:  3  6  9 12 15 18 21\n",
            "4:  4  8 12 16 20 24 28\n",
            "5:  5 10 15 20 25 30 35\n",
            "6:  6 12 18 24 30 36 42\n"
          ]
        }
      ],
      "source": [
        "def nested_loop():\n",
        "\n",
        "\n",
        "  # ask for rows and columns, validate, and reprompt on error\n",
        "  while True:\n",
        "    try:\n",
        "      rows_input = input(\"Enter the number of rows (1-10): \")\n",
        "      rows = int(rows_input)\n",
        "      cols_input = input(\"Enter the number of columns (1-10):\")\n",
        "      cols = int(cols_input)\n",
        "      if 1 <= rows <= 10 and 1 <= cols <= 10:\n",
        "        break   # exit loop if input is valid\n",
        "      else:\n",
        "        print(\"Invalid input. Please enter integers between 1 and 10.\")\n",
        "    except ValueError:\n",
        "      print(\"Invalid input. Please enter integers between 1 and 10.\")\n",
        "\n",
        "\n",
        "  # print multiplication table\n",
        "  for i in range(1, rows + 1):\n",
        "    print(f\"{i}:\", end=\"\") # Print row number\n",
        "    for j in range(1, cols + 1):\n",
        "      print(f\"{i*j:3}\", end=\"\") # format correctly\n",
        "    print()\n",
        "\n",
        "# call function\n",
        "nested_loop()"
      ]
    },
    {
      "cell_type": "markdown",
      "id": "416bab28",
      "metadata": {
        "id": "416bab28"
      },
      "source": [
        "---\n",
        "## Task 4 — Vowel counter across words (≈15 min)\n",
        "\n",
        "Use a **sentinel** loop to read words until the user types `done`.  \n",
        "For each word, use a **nested loop** (loop over characters) to count **vowels** `a e i o u` (case-insensitive).\n",
        "\n",
        "**Output**\n",
        "- After each word, print `\"{word}\" has {k} vowel(s)`.\n",
        "- At the end, print the **total number of vowels** across all words.\n",
        "\n",
        "> Hint: A string is looped over the way a list is.  Use `for ch in word:` and compare `ch.lower()` against a set like `{'a','e','i','o','u'}`."
      ]
    },
    {
      "cell_type": "code",
      "execution_count": 19,
      "id": "c7a96d30",
      "metadata": {
        "colab": {
          "base_uri": "https://localhost:8080/"
        },
        "id": "c7a96d30",
        "outputId": "41a803e9-120b-469c-bbbf-24a194b2af43"
      },
      "outputs": [
        {
          "output_type": "stream",
          "name": "stdout",
          "text": [
            "Enter a word (or 'done' to finish): cat\n",
            "\"cat\" has 1 vowel(s)\n",
            "Enter a word (or 'done' to finish): bat\n",
            "\"bat\" has 1 vowel(s)\n",
            "Enter a word (or 'done' to finish): treat\n",
            "\"treat\" has 2 vowel(s)\n",
            "Enter a word (or 'done' to finish): party\n",
            "\"party\" has 1 vowel(s)\n",
            "Enter a word (or 'done' to finish): done\n",
            "Total vowels across all words: 5\n"
          ]
        }
      ],
      "source": [
        "# set initial values\n",
        "total_vowels = 0\n",
        "vowels = {'a', 'e', 'i', 'o', 'u'}\n",
        "\n",
        "# repeatedly ask for words\n",
        "while True:\n",
        "  word = input(\"Enter a word (or 'done' to finish): \")\n",
        "  if word.lower() == \"done\":  # sets a sentinel\n",
        "    break\n",
        "\n",
        "  # counts vowels in the word\n",
        "  vowel_count = 0\n",
        "  for char in word:\n",
        "    if char.lower() in vowels:\n",
        "      vowel_count += 1\n",
        "\n",
        "# prints the amount of vowels for each word\n",
        "  print(f'\"{word}\" has {vowel_count} vowel(s)')\n",
        "  total_vowels += vowel_count   # keeps a running total for all vowels\n",
        "\n",
        "# prints the total values across all words\n",
        "print(f\"Total vowels across all words: {total_vowels}\")"
      ]
    },
    {
      "cell_type": "markdown",
      "id": "98dd5563",
      "metadata": {
        "id": "98dd5563"
      },
      "source": [
        "---\n",
        "## Task 5 — Mini-gradebook (≈20 min)\n",
        "\n",
        "Build a tiny gradebook using **both** a sentinel loop and a nested loop.\n",
        "\n",
        "**Requirements**\n",
        "1. Repeatedly ask for a **student name** until the user types `done` (sentinel).  \n",
        "   - Ignore blank names.\n",
        "2. For each student, read exactly **3 scores** (0..100, integers).  \n",
        "   - Use input validation with try/except; reprompt on bad input.\n",
        "3. Store each student's average in a dictionary `grades[name] = avg`.  **OR** use two parallel lists instead.\n",
        "4. THIS REQUIREMENT IS DELETED +3 points if you have coded this : After input ends, print a simple report sorted by name, e.g.:\n",
        "   ```\n",
        "   Alice : 88.00\n",
        "   Bob   : 92.33\n",
        "   ```\n",
        "\n",
        "Note: because dictionaries were not yet discussed, you are welcome to use **two different lists** instead.  \n",
        "One list stores the names and the other stores the averages.  For example:\n",
        "`list_1[0] == 'Alice'`, `list_1[1] == 'Bob'` and `list_2[0] == 88.00`, `list_2[1] == 92.33`.\n",
        "To store data:\n",
        "`list_1.append('Alice')` and `list_2.append(88.00)`.\n",
        "\n",
        "**Stretch (optional)**  \n",
        "- Also print the **class average**."
      ]
    },
    {
      "cell_type": "code",
      "execution_count": 53,
      "id": "b4c87c4c",
      "metadata": {
        "colab": {
          "base_uri": "https://localhost:8080/"
        },
        "id": "b4c87c4c",
        "outputId": "5e0090b6-09ad-4553-c5f7-1e397d76f803"
      },
      "outputs": [
        {
          "output_type": "stream",
          "name": "stdout",
          "text": [
            "Enter a student name (or 'done' to finish): Alex\n",
            "Enter score 1 for Alex (0-100): 87\n",
            "Enter score 2 for Alex (0-100): 89\n",
            "Enter score 3 for Alex (0-100): 90\n",
            "Enter a student name (or 'done' to finish): Ben\n",
            "Enter score 1 for Ben (0-100): 98\n",
            "Enter score 2 for Ben (0-100): 78\n",
            "Enter score 3 for Ben (0-100): 89\n",
            "Enter a student name (or 'done' to finish): done\n",
            "['Alex', 'Ben'], [88.66666666666667, 88.33333333333333]\n"
          ]
        }
      ],
      "source": [
        "# creates empty lists\n",
        "list_1 = []\n",
        "list_2 = []\n",
        "\n",
        "# repeatedly asks for a students name\n",
        "while True:\n",
        "  name = input(\"Enter a student name (or 'done' to finish): \")\n",
        "  if name.lower() == \"done\":  # sets sentinel\n",
        "    break\n",
        "  if name.strip() == \"\": # Ignore blank names\n",
        "    continue\n",
        "  list_1.append(name)  # saves names to the list\n",
        "\n",
        "  # aks for three grades for each name\n",
        "  total = 0\n",
        "  for s in range(3):\n",
        "    while True:\n",
        "      try:\n",
        "        score_input = input(f\"Enter score {s+1} for {name} (0-100): \")\n",
        "        score = float(score_input)\n",
        "        if 0 <= score <= 100:\n",
        "          total += score\n",
        "          average = total / 3\n",
        "          break\n",
        "        else:\n",
        "          print(\"Invalid score. Please enter a number between 0 and 100.\")\n",
        "          continue\n",
        "      except ValueError:\n",
        "        print(\"Invalid input. Please enter a number.\")\n",
        "        continue\n",
        "  list_2.append(average)  # saves averages to the list\n",
        "\n",
        "# prints names and averages\n",
        "print(f\"{list_1}, {list_2}\")"
      ]
    },
    {
      "cell_type": "markdown",
      "id": "0d1a8cf7",
      "metadata": {
        "id": "0d1a8cf7"
      },
      "source": [
        "---\n",
        "### ✅ Submission checklist\n",
        "\n",
        "- [ ] Notebook runs top-to-bottom without errors\n",
        "- [ ] Brief comments added where logic might be unclear\n",
        "- [ ] Push this notebook to GitHub and submit link to Canvas"
      ]
    }
  ],
  "metadata": {
    "colab": {
      "provenance": []
    },
    "language_info": {
      "name": "python"
    },
    "kernelspec": {
      "name": "python3",
      "display_name": "Python 3"
    }
  },
  "nbformat": 4,
  "nbformat_minor": 5
}